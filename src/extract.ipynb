{
 "cells": [
  {
   "cell_type": "code",
   "execution_count": null,
   "metadata": {},
   "outputs": [],
   "source": [
    "import json\n",
    "import requests\n",
    "import numpy as np\n",
    "import pandas as pd"
   ]
  },
  {
   "cell_type": "code",
   "execution_count": null,
   "metadata": {},
   "outputs": [],
   "source": [
    "# pull data from open-meteo api\n",
    "try:\n",
    "    # get most recent (current day - 2) hourly data: temp(2m), rel_humid(2m), apparent_temp, uv_index, is_day_or_night\n",
    "    # location: san francisco\n",
    "    # timezone: americas/los angeles (gmt - 7/8)\n",
    "    # BUT store using utc timestamp\n",
    "    open_meteo_endpoint ='https://historical-forecast-api.open-meteo.com/v1/forecast?latitude=37.7749&longitude=-122.4194&start_date=2025-07-16&end_date=2025-07-16&hourly=temperature_2m,apparent_temperature,uv_index,is_day,relative_humidity_2m&timezone=America%2FLos_Angeles&temperature_unit=fahrenheit'\n",
    "    response = requests.get(url=open_meteo_endpoint)\n",
    "    response.raise_for_status()\n",
    "    response_data = response.json()\n",
    "except Exception as e:\n",
    "    print(f'Error: {e}')\n"
   ]
  },
  {
   "cell_type": "code",
   "execution_count": null,
   "metadata": {},
   "outputs": [],
   "source": [
    "df = pd.DataFrame.from_dict(data=response_data)\n",
    "\n",
    "df"
   ]
  },
  {
   "cell_type": "code",
   "execution_count": null,
   "metadata": {},
   "outputs": [],
   "source": [
    "df.info()"
   ]
  },
  {
   "cell_type": "code",
   "execution_count": null,
   "metadata": {},
   "outputs": [],
   "source": [
    "# convert the data into an hourly data frame (or timestamped by time)\n",
    "# each row is a time, and all of the hourly attributes at that time\n",
    "\n",
    "columns_to_extract = df.index\n",
    "\n",
    "hourly_data = {\n",
    "    key: df.at[key, 'hourly']\n",
    "    for key in columns_to_extract\n",
    "}\n",
    "\n",
    "hourly_df = pd.DataFrame(data=hourly_data)\n",
    "# parse local time into localized datetime\n",
    "hourly_df['time'] = pd.to_datetime(hourly_df['time'])\n",
    "hourly_df['time'] = hourly_df['time'].dt.tz_localize('America/Los_Angeles')\n",
    "# calc utc_time\n",
    "hourly_df['utc_time'] = hourly_df['time'].dt.tz_convert('UTC')\n",
    "# set utc_time as index\n",
    "hourly_df.set_index('utc_time', inplace=True)\n",
    "\n",
    "hourly_df"
   ]
  },
  {
   "cell_type": "code",
   "execution_count": null,
   "metadata": {},
   "outputs": [],
   "source": []
  }
 ],
 "metadata": {
  "kernelspec": {
   "display_name": ".venv",
   "language": "python",
   "name": "python3"
  },
  "language_info": {
   "codemirror_mode": {
    "name": "ipython",
    "version": 3
   },
   "file_extension": ".py",
   "mimetype": "text/x-python",
   "name": "python",
   "nbconvert_exporter": "python",
   "pygments_lexer": "ipython3",
   "version": "3.13.5"
  }
 },
 "nbformat": 4,
 "nbformat_minor": 2
}
