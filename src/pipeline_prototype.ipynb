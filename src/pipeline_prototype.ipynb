{
 "cells": [
  {
   "cell_type": "code",
   "execution_count": null,
   "metadata": {},
   "outputs": [],
   "source": [
    "import json\n",
    "import requests\n",
    "import numpy as np\n",
    "import pandas as pd"
   ]
  },
  {
   "cell_type": "code",
   "execution_count": null,
   "metadata": {},
   "outputs": [],
   "source": [
    "import functools\n",
    "\n",
    "# logging, timing, arguments"
   ]
  },
  {
   "cell_type": "code",
   "execution_count": null,
   "metadata": {},
   "outputs": [],
   "source": [
    "def extract_weather_data(api_url: str):\n",
    "    response = requests.get(url=api_url)\n",
    "    response.raise_for_status()\n",
    "    return response.json()"
   ]
  },
  {
   "cell_type": "code",
   "execution_count": null,
   "metadata": {},
   "outputs": [],
   "source": [
    "# convert the data into an hourly data frame (or timestamped by time)\n",
    "# each row is a time, and all of the hourly attributes at that time\n",
    "def transform_weather_data(response_data: dict):\n",
    "    '''Takes an open-meteo api response json in form of a python dict'''\n",
    "    # load response_data into a raw dataframe\n",
    "    df = pd.DataFrame.from_dict(data=response_data)\n",
    "    \n",
    "    columns_to_extract = df.index\n",
    "\n",
    "    hourly_data = {\n",
    "        key: df.at[key, 'hourly']\n",
    "        for key in columns_to_extract\n",
    "    }\n",
    "\n",
    "    hourly_df = pd.DataFrame(data=hourly_data)\n",
    "\n",
    "    # parse local time into localized datetime\n",
    "    hourly_df['time'] = pd.to_datetime(hourly_df['time'])\n",
    "    hourly_df['time'] = hourly_df['time'].dt.tz_localize('America/Los_Angeles')\n",
    "    \n",
    "    # calc utc_time from \n",
    "    hourly_df['utc_time'] = hourly_df['time'].dt.tz_convert('UTC')\n",
    "    \n",
    "    # set utc_time as index\n",
    "    hourly_df.set_index('utc_time', inplace=True)\n",
    "\n",
    "    return hourly_df"
   ]
  },
  {
   "cell_type": "code",
   "execution_count": null,
   "metadata": {},
   "outputs": [],
   "source": [
    "# pull data from open-meteo api\n",
    "try:\n",
    "    # get most recent (current day - 2) hourly data: temp(2m), rel_humid(2m), apparent_temp, uv_index, is_day_or_night\n",
    "    # location: san francisco\n",
    "    # timezone: americas/los angeles (gmt - 7/8)\n",
    "    # BUT store using utc timestamp\n",
    "    open_meteo_endpoint ='https://historical-forecast-api.open-meteo.com/v1/forecast?latitude=37.7749&longitude=-122.4194&start_date=2025-07-16&end_date=2025-07-16&hourly=temperature_2m,apparent_temperature,uv_index,is_day,relative_humidity_2m&timezone=America%2FLos_Angeles&temperature_unit=fahrenheit'\n",
    "    response_data = extract_weather_data(api_url=open_meteo_endpoint)\n",
    "except Exception as e:\n",
    "    print(f'Error: {e}')\n"
   ]
  },
  {
   "cell_type": "code",
   "execution_count": null,
   "metadata": {},
   "outputs": [],
   "source": [
    "df = pd.DataFrame.from_dict(data=response_data)\n",
    "    \n",
    "print(df)"
   ]
  },
  {
   "cell_type": "code",
   "execution_count": null,
   "metadata": {},
   "outputs": [],
   "source": [
    "df.info()"
   ]
  },
  {
   "cell_type": "code",
   "execution_count": null,
   "metadata": {},
   "outputs": [],
   "source": [
    "df = pd.DataFrame.from_dict(data=response_data)\n",
    "\n",
    "# convert the data into an hourly data frame (or timestamped by time)\n",
    "# each row is a time, and all of the hourly attributes at that time\n",
    "\n",
    "columns_to_extract = df.index\n",
    "\n",
    "hourly_data = {\n",
    "    key: df.at[key, 'hourly']\n",
    "    for key in columns_to_extract\n",
    "}\n",
    "\n",
    "hourly_df = pd.DataFrame(data=hourly_data)\n",
    "# parse local time into localized datetime\n",
    "hourly_df['time'] = pd.to_datetime(hourly_df['time'])\n",
    "hourly_df['time'] = hourly_df['time'].dt.tz_localize('America/Los_Angeles')\n",
    "# calc utc_time\n",
    "hourly_df['utc_time'] = hourly_df['time'].dt.tz_convert('UTC')\n",
    "\n",
    "# drop localized datetime\n",
    "hourly_df.drop(columns=['time'], inplace=True)\n",
    "\n",
    "hourly_df"
   ]
  },
  {
   "cell_type": "code",
   "execution_count": null,
   "metadata": {},
   "outputs": [],
   "source": [
    "hourly_df.dtypes"
   ]
  },
  {
   "cell_type": "markdown",
   "metadata": {},
   "source": [
    "# Load into Postgres"
   ]
  },
  {
   "cell_type": "code",
   "execution_count": null,
   "metadata": {},
   "outputs": [],
   "source": [
    "import psycopg2\n",
    "\n",
    "# use context managers in finalized .py files\n",
    "conn = psycopg2.connect(\n",
    "    database='weather_db',\n",
    "    user='postgres',\n",
    "    password='example',\n",
    "    host='localhost',\n",
    "    port=5432\n",
    ")\n",
    "\n",
    "cur = conn.cursor()\n",
    "# cur.execute('DROP TABLE sf_hourly_weather')\n"
   ]
  },
  {
   "cell_type": "code",
   "execution_count": null,
   "metadata": {},
   "outputs": [],
   "source": [
    "from io import StringIO\n",
    "\n",
    "# create table if doesnt exist\n",
    "cur.execute('''\n",
    "CREATE TABLE IF NOT EXISTS sf_hourly_weather (\n",
    "    temperature_2m_f REAL,\n",
    "    apparent_temperature_f REAL,\n",
    "    uv_index REAL,\n",
    "    is_day BOOLEAN,\n",
    "    relative_humidity_2m_perc REAL,\n",
    "    utc_time TIMESTAMPTZ PRIMARY KEY\n",
    ")\n",
    "''')\n",
    "\n",
    "with StringIO() as buffer:\n",
    "    hourly_df.to_csv(buffer, index=False, header=False)\n",
    "    buffer.seek(0)\n",
    "    cur.copy_from(buffer, table='sf_hourly_weather', sep=',')"
   ]
  },
  {
   "cell_type": "code",
   "execution_count": null,
   "metadata": {},
   "outputs": [],
   "source": [
    "print(type(conn))"
   ]
  },
  {
   "cell_type": "code",
   "execution_count": null,
   "metadata": {},
   "outputs": [],
   "source": [
    "cur.execute('select * from sf_hourly_weather')\n",
    "result_list = cur.fetchall()\n",
    "columns = [col.name for col in cur.description]\n",
    "query_df = pd.DataFrame(data=result_list, columns=columns)\n",
    "\n",
    "# query_df = pd.read_sql(sql=\"select utc_time at time zone 'America/Los_Angeles', * from sf_hourly_weather\", con=conn)\n",
    "query_df"
   ]
  }
 ],
 "metadata": {
  "kernelspec": {
   "display_name": ".venv",
   "language": "python",
   "name": "python3"
  },
  "language_info": {
   "codemirror_mode": {
    "name": "ipython",
    "version": 3
   },
   "file_extension": ".py",
   "mimetype": "text/x-python",
   "name": "python",
   "nbconvert_exporter": "python",
   "pygments_lexer": "ipython3",
   "version": "3.13.5"
  }
 },
 "nbformat": 4,
 "nbformat_minor": 2
}
